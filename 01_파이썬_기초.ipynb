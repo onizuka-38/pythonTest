{
 "cells": [
  {
   "cell_type": "markdown",
   "id": "00b23253",
   "metadata": {},
   "source": [
    "# 01. 파이썬 기초 (입문)\n",
    "\n",
    "- 작성일: 2025-09-22\n",
    "- 목적: 파이썬 아주 기초 개념을 **실습 위주**로 익히고, 바로바로 확인 테스트를 수행합니다.\n",
    "- 방식: 각 섹션 아래 **연습문제**가 있으며, `# TODO` 표시된 코드를 작성하세요. 테스트 셀의 `assert`가 통과하면 OK!\n",
    "\n",
    "> 팁: Shift+Enter로 셀 실행. 실패하면 에러 메시지를 읽고 다시 수정하세요.\n"
   ]
  },
  {
   "cell_type": "markdown",
   "id": "f75ba04d",
   "metadata": {},
   "source": [
    "## 0) Hello, Python\n",
    "\n",
    "파이썬이 잘 동작하는지 간단히 출력해봅시다.\n"
   ]
  },
  {
   "cell_type": "code",
   "execution_count": 1,
   "id": "e29f9b4e",
   "metadata": {},
   "outputs": [
    {
     "name": "stdout",
     "output_type": "stream",
     "text": [
      "Hello, Python!\n"
     ]
    }
   ],
   "source": [
    "print('Hello, Python!')"
   ]
  },
  {
   "cell_type": "markdown",
   "id": "99a91623",
   "metadata": {},
   "source": [
    "## 1) 표현식과 변수\n",
    "\n",
    "- 숫자 연산(+, -, *, /, //, %, **)\n",
    "- 변수에 값 저장 및 재할당\n",
    "- 자료형 확인: `type()`\n"
   ]
  },
  {
   "cell_type": "code",
   "execution_count": 4,
   "id": "5da222a1",
   "metadata": {},
   "outputs": [
    {
     "name": "stdout",
     "output_type": "stream",
     "text": [
      "13 3.3333333333333335 3 1 1000\n"
     ]
    },
    {
     "data": {
      "text/plain": [
       "(int, float)"
      ]
     },
     "execution_count": 4,
     "metadata": {},
     "output_type": "execute_result"
    }
   ],
   "source": [
    "\n",
    "# 연습\n",
    "a = 10\n",
    "b = 3\n",
    "add_ = a + b\n",
    "div_ = a / b\n",
    "floor_div_ = a // b\n",
    "mod_ = a % b\n",
    "pow_ = a ** b\n",
    "\n",
    "print(add_, div_, floor_div_, mod_, pow_)\n",
    "type(add_), type(div_)\n"
   ]
  },
  {
   "cell_type": "markdown",
   "id": "2861c659",
   "metadata": {},
   "source": [
    "## 2) 문자열과 f-string\n",
    "\n",
    "- 따옴표: `'...'`, `\"...\"`\n",
    "- 길이: `len()`\n",
    "- 포맷팅: `f\"{변수}\"`\n"
   ]
  },
  {
   "cell_type": "code",
   "execution_count": 6,
   "id": "47a780b8",
   "metadata": {},
   "outputs": [
    {
     "name": "stdout",
     "output_type": "stream",
     "text": [
      "안녕하세요, dp! 10\n"
     ]
    }
   ],
   "source": [
    "\n",
    "name = \"dp\"\n",
    "msg = f\"안녕하세요, {name}!\"\n",
    "print(msg, len(msg))\n"
   ]
  },
  {
   "cell_type": "markdown",
   "id": "71d3285f",
   "metadata": {},
   "source": [
    "## 3) 컬렉션 기초 — list / tuple / dict / set\n",
    "\n",
    "- list: 순서 O, 변경 O\n",
    "- tuple: 순서 O, 변경 X\n",
    "- dict: 키-값 쌍\n",
    "- set: 중복 제거, 수학적 집합 연산\n"
   ]
  },
  {
   "cell_type": "code",
   "execution_count": 7,
   "id": "a921a01b",
   "metadata": {},
   "outputs": [
    {
     "data": {
      "text/plain": [
       "([3, 1, 4, 1, 5, 9],\n",
       " [1, 1, 3, 4, 5, 9],\n",
       " (10, 20),\n",
       " {'name': 'Lee', 'age': 29, 'job': 'Engineer'},\n",
       " {1, 3, 4, 5, 9})"
      ]
     },
     "execution_count": 7,
     "metadata": {},
     "output_type": "execute_result"
    }
   ],
   "source": [
    "\n",
    "# list\n",
    "nums = [3, 1, 4, 1, 5]\n",
    "nums.append(9)\n",
    "nums_sorted = sorted(nums)\n",
    "\n",
    "# tuple\n",
    "point = (10, 20)\n",
    "\n",
    "# dict\n",
    "person = {\"name\": \"Lee\", \"age\": 29}\n",
    "person[\"job\"] = \"Engineer\"\n",
    "\n",
    "# set\n",
    "unique = set(nums)  # 중복 제거\n",
    "\n",
    "nums, nums_sorted, point, person, unique\n"
   ]
  },
  {
   "cell_type": "markdown",
   "id": "09546adc",
   "metadata": {},
   "source": [
    "## 4) 제어문 — if / for / while\n",
    "\n",
    "조건과 반복을 이용해 간단한 로직을 만들 수 있습니다.\n"
   ]
  },
  {
   "cell_type": "code",
   "execution_count": 8,
   "id": "49e726fe",
   "metadata": {},
   "outputs": [
    {
     "data": {
      "text/plain": [
       "5050"
      ]
     },
     "execution_count": 8,
     "metadata": {},
     "output_type": "execute_result"
    }
   ],
   "source": [
    "\n",
    "# 합계: 1~100\n",
    "total = 0\n",
    "for i in range(1, 101):\n",
    "    total += i\n",
    "total\n"
   ]
  },
  {
   "cell_type": "markdown",
   "id": "12792fb4",
   "metadata": {},
   "source": [
    "## 5) 리스트 컴프리헨션\n",
    "\n",
    "반복 + 조건을 한 줄로 간결하게 표현합니다.\n"
   ]
  },
  {
   "cell_type": "code",
   "execution_count": 9,
   "id": "27446c8d",
   "metadata": {},
   "outputs": [
    {
     "data": {
      "text/plain": [
       "[4, 16, 36, 64, 100]"
      ]
     },
     "execution_count": 9,
     "metadata": {},
     "output_type": "execute_result"
    }
   ],
   "source": [
    "\n",
    "squares_of_even = [x*x for x in range(1, 11) if x % 2 == 0]\n",
    "squares_of_even\n"
   ]
  },
  {
   "cell_type": "markdown",
   "id": "dad751a6",
   "metadata": {},
   "source": [
    "## 6) 함수 + 타입힌트\n",
    "\n",
    "함수는 입력을 받아 출력을 만듭니다. 타입힌트는 가독성/품질 향상에 도움.\n",
    "\n",
    "아래 `is_even`, `word_count`, `fibonacci`는 **TODO**를 채워 완성하세요.\n"
   ]
  },
  {
   "cell_type": "code",
   "execution_count": null,
   "id": "e76de679",
   "metadata": {},
   "outputs": [],
   "source": [
    "\n",
    "from typing import Dict\n",
    "\n",
    "def is_even(n: int) -> bool:\n",
    "    \"\"\"정수 n이 짝수면 True, 아니면 False를 반환합니다.\"\"\"\n",
    "    # TODO: 한 줄로 구현해보세요.\n",
    "    return n % 2 == 0\n",
    "\n",
    "\n",
    "def word_count(text: str) -> Dict[str, int]:\n",
    "    \"\"\"공백 기준으로 단어를 분리해 소문자 기준 빈도수를 dict로 반환합니다.\n",
    "    예: \"Hello hello\" -> {\"hello\": 2}\n",
    "    구두점 제거 등은 아직 하지 않습니다.\n",
    "    \"\"\"\n",
    "    # TODO: split / lower를 활용해 구현\n",
    "    counts: Dict[str, int] = {}\n",
    "    for w in text.lower().split():\n",
    "        counts[w] = counts.get(w, 0) + 1\n",
    "    return counts\n",
    "\n",
    "\n",
    "def fibonacci(n: int) -> int:\n",
    "    \"\"\"피보나치 수열의 n번째 값을 반환 (n>=0, f(0)=0, f(1)=1).\"\"\"\n",
    "    # TODO: 반복문으로 효율적으로 구현\n",
    "    if n < 0:\n",
    "        raise ValueError(\"n must be >= 0\")\n",
    "    a, b = 0, 1\n",
    "    for _ in range(n):\n",
    "        a, b = b, a + b\n",
    "    return a\n"
   ]
  },
  {
   "cell_type": "markdown",
   "id": "114839cd",
   "metadata": {},
   "source": [
    "### ✅ 미니 테스트\n",
    "\n",
    "아래 `assert`가 모두 통과하면 구현이 정상입니다.\n"
   ]
  },
  {
   "cell_type": "code",
   "execution_count": null,
   "id": "b85c0352",
   "metadata": {},
   "outputs": [],
   "source": [
    "\n",
    "# is_even\n",
    "assert is_even(2) is True\n",
    "assert is_even(5) is False\n",
    "\n",
    "# word_count\n",
    "wc = word_count(\"Hello hello world\")\n",
    "assert wc == {\"hello\": 2, \"world\": 1}\n",
    "\n",
    "# fibonacci\n",
    "assert fibonacci(0) == 0\n",
    "assert fibonacci(1) == 1\n",
    "assert fibonacci(10) == 55\n",
    "\n",
    "print(\"모든 미니 테스트 통과! 🎉\")\n"
   ]
  },
  {
   "cell_type": "markdown",
   "id": "d7feb839",
   "metadata": {},
   "source": [
    "## 7) 파일 I/O 예고편\n",
    "\n",
    "다음 노트북에서 자세히 다루겠지만, 맛보기로 한 줄 써봅시다.\n"
   ]
  },
  {
   "cell_type": "code",
   "execution_count": null,
   "id": "c6be715d",
   "metadata": {},
   "outputs": [],
   "source": [
    "\n",
    "# /mnt/data에 파일 쓰기 (이 환경에서만 보이는 경로)\n",
    "path = \"/mnt/data/hello_python.txt\"\n",
    "with open(path, \"w\", encoding=\"utf-8\") as f:\n",
    "    f.write(\"안녕하세요, 파일!\\n\")\n",
    "path\n"
   ]
  },
  {
   "cell_type": "markdown",
   "id": "9bb5f6f2",
   "metadata": {},
   "source": [
    "## 8) 연습문제 모음\n",
    "\n",
    "### Q1) `sum_of_squares(n)` 구현\n",
    "- 1부터 n까지 제곱의 합을 반환하세요. (예: n=3 → 1^2+2^2+3^2=14)\n",
    "\n",
    "### Q2) `only_unique(words)` 구현\n",
    "- 문자열 리스트 `words`에서 **중복을 제거**하고, 기존 등장 **순서를 유지**하여 리스트로 반환하세요.\n"
   ]
  },
  {
   "cell_type": "code",
   "execution_count": null,
   "id": "39fe3047",
   "metadata": {},
   "outputs": [],
   "source": [
    "\n",
    "from typing import List\n",
    "\n",
    "def sum_of_squares(n: int) -> int:\n",
    "    # TODO: 컴프리헨션으로 구현해보세요.\n",
    "    return sum([i*i for i in range(1, n+1)])\n",
    "\n",
    "\n",
    "def only_unique(words: List[str]) -> List[str]:\n",
    "    # TODO: set을 쓰되, 순서는 보존해야 합니다.\n",
    "    seen = set()\n",
    "    out: List[str] = []\n",
    "    for w in words:\n",
    "        if w not in seen:\n",
    "            out.append(w)\n",
    "            seen.add(w)\n",
    "    return out\n"
   ]
  },
  {
   "cell_type": "markdown",
   "id": "48b620e1",
   "metadata": {},
   "source": [
    "### ✅ 연습문제 테스트"
   ]
  },
  {
   "cell_type": "code",
   "execution_count": null,
   "id": "0437b7a5",
   "metadata": {},
   "outputs": [],
   "source": [
    "\n",
    "assert sum_of_squares(1) == 1\n",
    "assert sum_of_squares(3) == 14\n",
    "assert sum_of_squares(10) == 385\n",
    "\n",
    "assert only_unique([\"a\",\"b\",\"a\",\"c\",\"b\",\"d\"]) == [\"a\",\"b\",\"c\",\"d\"]\n",
    "assert only_unique([]) == []\n",
    "assert only_unique([\"x\",\"x\",\"x\"]) == [\"x\"]\n",
    "\n",
    "print(\"연습문제 통과! ✅\")\n"
   ]
  },
  {
   "cell_type": "markdown",
   "id": "a720bf76",
   "metadata": {},
   "source": [
    "---\n",
    "\n",
    "## 다음 단계\n",
    "- **02. 컬렉션/제어문 심화 & 예외/파일 I/O** 노트북으로 이어갑니다.\n",
    "- 레포에는 `tests/` 폴더를 만들어 같은 함수를 pytest로도 점검해보세요.\n",
    "\n",
    "필요하면 다음 노트북도 바로 만들어 드릴게요. 🙌\n"
   ]
  }
 ],
 "metadata": {
  "kernelspec": {
   "display_name": "base",
   "language": "python",
   "name": "python3"
  },
  "language_info": {
   "codemirror_mode": {
    "name": "ipython",
    "version": 3
   },
   "file_extension": ".py",
   "mimetype": "text/x-python",
   "name": "python",
   "nbconvert_exporter": "python",
   "pygments_lexer": "ipython3",
   "version": "3.10.9"
  }
 },
 "nbformat": 4,
 "nbformat_minor": 5
}
